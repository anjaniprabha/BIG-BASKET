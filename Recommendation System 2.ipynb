{
 "cells": [
  {
   "cell_type": "code",
   "execution_count": 1,
   "id": "bb430b56",
   "metadata": {},
   "outputs": [],
   "source": [
    "import numpy as np\n",
    "import pandas as pd"
   ]
  },
  {
   "cell_type": "code",
   "execution_count": 2,
   "id": "e643c241",
   "metadata": {},
   "outputs": [],
   "source": [
    "df = pd.read_csv('BigBasket Products.csv',index_col='index')"
   ]
  },
  {
   "cell_type": "code",
   "execution_count": 3,
   "id": "576b028c",
   "metadata": {},
   "outputs": [
    {
     "data": {
      "text/html": [
       "<div>\n",
       "<style scoped>\n",
       "    .dataframe tbody tr th:only-of-type {\n",
       "        vertical-align: middle;\n",
       "    }\n",
       "\n",
       "    .dataframe tbody tr th {\n",
       "        vertical-align: top;\n",
       "    }\n",
       "\n",
       "    .dataframe thead th {\n",
       "        text-align: right;\n",
       "    }\n",
       "</style>\n",
       "<table border=\"1\" class=\"dataframe\">\n",
       "  <thead>\n",
       "    <tr style=\"text-align: right;\">\n",
       "      <th></th>\n",
       "      <th>product</th>\n",
       "      <th>category</th>\n",
       "      <th>sub_category</th>\n",
       "      <th>brand</th>\n",
       "      <th>sale_price</th>\n",
       "      <th>market_price</th>\n",
       "      <th>type</th>\n",
       "      <th>rating</th>\n",
       "      <th>description</th>\n",
       "    </tr>\n",
       "    <tr>\n",
       "      <th>index</th>\n",
       "      <th></th>\n",
       "      <th></th>\n",
       "      <th></th>\n",
       "      <th></th>\n",
       "      <th></th>\n",
       "      <th></th>\n",
       "      <th></th>\n",
       "      <th></th>\n",
       "      <th></th>\n",
       "    </tr>\n",
       "  </thead>\n",
       "  <tbody>\n",
       "    <tr>\n",
       "      <th>1</th>\n",
       "      <td>Garlic Oil - Vegetarian Capsule 500 mg</td>\n",
       "      <td>Beauty &amp; Hygiene</td>\n",
       "      <td>Hair Care</td>\n",
       "      <td>Sri Sri Ayurveda</td>\n",
       "      <td>220.0</td>\n",
       "      <td>220.0</td>\n",
       "      <td>Hair Oil &amp; Serum</td>\n",
       "      <td>4.1</td>\n",
       "      <td>This Product contains Garlic Oil that is known...</td>\n",
       "    </tr>\n",
       "    <tr>\n",
       "      <th>2</th>\n",
       "      <td>Water Bottle - Orange</td>\n",
       "      <td>Kitchen, Garden &amp; Pets</td>\n",
       "      <td>Storage &amp; Accessories</td>\n",
       "      <td>Mastercook</td>\n",
       "      <td>180.0</td>\n",
       "      <td>180.0</td>\n",
       "      <td>Water &amp; Fridge Bottles</td>\n",
       "      <td>2.3</td>\n",
       "      <td>Each product is microwave safe (without lid), ...</td>\n",
       "    </tr>\n",
       "    <tr>\n",
       "      <th>3</th>\n",
       "      <td>Brass Angle Deep - Plain, No.2</td>\n",
       "      <td>Cleaning &amp; Household</td>\n",
       "      <td>Pooja Needs</td>\n",
       "      <td>Trm</td>\n",
       "      <td>119.0</td>\n",
       "      <td>250.0</td>\n",
       "      <td>Lamp &amp; Lamp Oil</td>\n",
       "      <td>3.4</td>\n",
       "      <td>A perfect gift for all occasions, be it your m...</td>\n",
       "    </tr>\n",
       "    <tr>\n",
       "      <th>4</th>\n",
       "      <td>Cereal Flip Lid Container/Storage Jar - Assort...</td>\n",
       "      <td>Cleaning &amp; Household</td>\n",
       "      <td>Bins &amp; Bathroom Ware</td>\n",
       "      <td>Nakoda</td>\n",
       "      <td>149.0</td>\n",
       "      <td>176.0</td>\n",
       "      <td>Laundry, Storage Baskets</td>\n",
       "      <td>3.7</td>\n",
       "      <td>Multipurpose container with an attractive desi...</td>\n",
       "    </tr>\n",
       "    <tr>\n",
       "      <th>5</th>\n",
       "      <td>Creme Soft Soap - For Hands &amp; Body</td>\n",
       "      <td>Beauty &amp; Hygiene</td>\n",
       "      <td>Bath &amp; Hand Wash</td>\n",
       "      <td>Nivea</td>\n",
       "      <td>162.0</td>\n",
       "      <td>162.0</td>\n",
       "      <td>Bathing Bars &amp; Soaps</td>\n",
       "      <td>4.4</td>\n",
       "      <td>Nivea Creme Soft Soap gives your skin the best...</td>\n",
       "    </tr>\n",
       "  </tbody>\n",
       "</table>\n",
       "</div>"
      ],
      "text/plain": [
       "                                                 product  \\\n",
       "index                                                      \n",
       "1                 Garlic Oil - Vegetarian Capsule 500 mg   \n",
       "2                                  Water Bottle - Orange   \n",
       "3                         Brass Angle Deep - Plain, No.2   \n",
       "4      Cereal Flip Lid Container/Storage Jar - Assort...   \n",
       "5                     Creme Soft Soap - For Hands & Body   \n",
       "\n",
       "                     category           sub_category              brand  \\\n",
       "index                                                                     \n",
       "1            Beauty & Hygiene              Hair Care  Sri Sri Ayurveda    \n",
       "2      Kitchen, Garden & Pets  Storage & Accessories         Mastercook   \n",
       "3        Cleaning & Household            Pooja Needs                Trm   \n",
       "4        Cleaning & Household   Bins & Bathroom Ware             Nakoda   \n",
       "5            Beauty & Hygiene       Bath & Hand Wash              Nivea   \n",
       "\n",
       "       sale_price  market_price                      type  rating  \\\n",
       "index                                                               \n",
       "1           220.0         220.0          Hair Oil & Serum     4.1   \n",
       "2           180.0         180.0    Water & Fridge Bottles     2.3   \n",
       "3           119.0         250.0           Lamp & Lamp Oil     3.4   \n",
       "4           149.0         176.0  Laundry, Storage Baskets     3.7   \n",
       "5           162.0         162.0      Bathing Bars & Soaps     4.4   \n",
       "\n",
       "                                             description  \n",
       "index                                                     \n",
       "1      This Product contains Garlic Oil that is known...  \n",
       "2      Each product is microwave safe (without lid), ...  \n",
       "3      A perfect gift for all occasions, be it your m...  \n",
       "4      Multipurpose container with an attractive desi...  \n",
       "5      Nivea Creme Soft Soap gives your skin the best...  "
      ]
     },
     "execution_count": 3,
     "metadata": {},
     "output_type": "execute_result"
    }
   ],
   "source": [
    "df.head()"
   ]
  },
  {
   "cell_type": "code",
   "execution_count": 4,
   "id": "a31b7309",
   "metadata": {},
   "outputs": [],
   "source": [
    "df.drop_duplicates(inplace = True, subset=['product'])"
   ]
  },
  {
   "cell_type": "code",
   "execution_count": 5,
   "id": "04bf25e7",
   "metadata": {},
   "outputs": [],
   "source": [
    "df.head()\n",
    "save_df = df.copy()"
   ]
  },
  {
   "cell_type": "code",
   "execution_count": 6,
   "id": "cfc5e3c2",
   "metadata": {},
   "outputs": [
    {
     "name": "stdout",
     "output_type": "stream",
     "text": [
      "category values\n"
     ]
    },
    {
     "data": {
      "text/plain": [
       "Beauty & Hygiene            6825\n",
       "Gourmet & World Food        4040\n",
       "Kitchen, Garden & Pets      3185\n",
       "Cleaning & Household        2408\n",
       "Snacks & Branded Foods      2401\n",
       "Foodgrains, Oil & Masala    1964\n",
       "Bakery, Cakes & Dairy        746\n",
       "Beverages                    740\n",
       "Baby Care                    544\n",
       "Fruits & Vegetables          350\n",
       "Eggs, Meat & Fish            338\n",
       "Name: category, dtype: int64"
      ]
     },
     "execution_count": 6,
     "metadata": {},
     "output_type": "execute_result"
    }
   ],
   "source": [
    "print('category values')\n",
    "df.category.value_counts()"
   ]
  },
  {
   "cell_type": "code",
   "execution_count": 7,
   "id": "bfb13fde",
   "metadata": {},
   "outputs": [
    {
     "name": "stdout",
     "output_type": "stream",
     "text": [
      "subcategory values\n"
     ]
    },
    {
     "data": {
      "text/plain": [
       "Skin Care                   2079\n",
       "Health & Medicine           1019\n",
       "Storage & Accessories        875\n",
       "Fragrances & Deos            853\n",
       "Bath & Hand Wash             852\n",
       "                            ... \n",
       "Herbs & Seasonings            16\n",
       "Water                          7\n",
       "Flower Bouquets, Bunches       7\n",
       "Pork & Other Meats             3\n",
       "Marinades                      1\n",
       "Name: sub_category, Length: 90, dtype: int64"
      ]
     },
     "execution_count": 7,
     "metadata": {},
     "output_type": "execute_result"
    }
   ],
   "source": [
    "print('subcategory values')\n",
    "df.sub_category.value_counts()"
   ]
  },
  {
   "cell_type": "markdown",
   "id": "643948da",
   "metadata": {},
   "source": [
    "# Popularity based filtering\n",
    "\n",
    "Popularity-based technique use the idea of recommend popular items, so I will recommend high rating items descendingPopularity-based technique use the idea of recommend popular items, so I will recommend high rating items descending\n",
    "\n",
    "On the website where new user visit, I will show each top 5 items of each categories. So, the user can explore what currently trending or popular."
   ]
  },
  {
   "cell_type": "code",
   "execution_count": 8,
   "id": "7e8d7399",
   "metadata": {},
   "outputs": [
    {
     "name": "stdout",
     "output_type": "stream",
     "text": [
      "                    category              sub_category  \\\n",
      "0                  Baby Care           Diapers & Wipes   \n",
      "1                  Baby Care          Baby Accessories   \n",
      "2                  Baby Care       Baby Bath & Hygiene   \n",
      "3                  Baby Care           Diapers & Wipes   \n",
      "4                  Baby Care           Diapers & Wipes   \n",
      "5      Bakery, Cakes & Dairy                     Dairy   \n",
      "6      Bakery, Cakes & Dairy     Cookies, Rusk & Khari   \n",
      "7      Bakery, Cakes & Dairy          Cakes & Pastries   \n",
      "8      Bakery, Cakes & Dairy          Cakes & Pastries   \n",
      "9      Bakery, Cakes & Dairy                     Dairy   \n",
      "10          Beauty & Hygiene                 Skin Care   \n",
      "11          Beauty & Hygiene                 Skin Care   \n",
      "12          Beauty & Hygiene         Health & Medicine   \n",
      "13          Beauty & Hygiene         Fragrances & Deos   \n",
      "14          Beauty & Hygiene          Feminine Hygiene   \n",
      "15                 Beverages                       Tea   \n",
      "16                 Beverages                       Tea   \n",
      "17                 Beverages                       Tea   \n",
      "18                 Beverages                       Tea   \n",
      "19                 Beverages                       Tea   \n",
      "20      Cleaning & Household      Bins & Bathroom Ware   \n",
      "21      Cleaning & Household                Stationery   \n",
      "22      Cleaning & Household     Detergents & Dishwash   \n",
      "23      Cleaning & Household  Disposables, Garbage Bag   \n",
      "24      Cleaning & Household      All Purpose Cleaners   \n",
      "25         Eggs, Meat & Fish            Fish & Seafood   \n",
      "26         Eggs, Meat & Fish  Sausages, Bacon & Salami   \n",
      "27         Eggs, Meat & Fish  Sausages, Bacon & Salami   \n",
      "28         Eggs, Meat & Fish  Sausages, Bacon & Salami   \n",
      "29         Eggs, Meat & Fish  Sausages, Bacon & Salami   \n",
      "30  Foodgrains, Oil & Masala          Masalas & Spices   \n",
      "31  Foodgrains, Oil & Masala                Dry Fruits   \n",
      "32  Foodgrains, Oil & Masala          Masalas & Spices   \n",
      "33  Foodgrains, Oil & Masala           Organic Staples   \n",
      "34  Foodgrains, Oil & Masala             Dals & Pulses   \n",
      "35       Fruits & Vegetables            Cuts & Sprouts   \n",
      "36       Fruits & Vegetables              Fresh Fruits   \n",
      "37       Fruits & Vegetables          Fresh Vegetables   \n",
      "38       Fruits & Vegetables              Fresh Fruits   \n",
      "39       Fruits & Vegetables        Herbs & Seasonings   \n",
      "40      Gourmet & World Food     Chocolates & Biscuits   \n",
      "41      Gourmet & World Food    Cooking & Baking Needs   \n",
      "42      Gourmet & World Food     Chocolates & Biscuits   \n",
      "43      Gourmet & World Food    Cooking & Baking Needs   \n",
      "44      Gourmet & World Food            Oils & Vinegar   \n",
      "45    Kitchen, Garden & Pets      Cookware & Non Stick   \n",
      "46    Kitchen, Garden & Pets    Pet Food & Accessories   \n",
      "47    Kitchen, Garden & Pets        Crockery & Cutlery   \n",
      "48    Kitchen, Garden & Pets        Crockery & Cutlery   \n",
      "49    Kitchen, Garden & Pets        Crockery & Cutlery   \n",
      "50    Snacks & Branded Foods         Pickles & Chutney   \n",
      "51    Snacks & Branded Foods  Spreads, Sauces, Ketchup   \n",
      "52    Snacks & Branded Foods          Snacks & Namkeen   \n",
      "53    Snacks & Branded Foods          Snacks & Namkeen   \n",
      "54    Snacks & Branded Foods        Biscuits & Cookies   \n",
      "\n",
      "                                              product  rating  \n",
      "0                                  Baby Happy Tissues     5.0  \n",
      "1                     Baby Soft Relax Teethers - 2 M+     5.0  \n",
      "2                   Natural Baby Bath & Lotion Bundle     5.0  \n",
      "3                             Baby Wipes - Combo Pack     5.0  \n",
      "4                     Wonder Pants Large - 99 Diapers     5.0  \n",
      "5                                      Dairy Whitener     5.0  \n",
      "6                    Sugar Free Oats & Raisin Cookies     5.0  \n",
      "7          Plum Cake - Christmas, Wholewheat, Eggless     5.0  \n",
      "8                               Italian Tiramisu Cake     5.0  \n",
      "9          Tempeh Cubes - Spiced Tawa Masala Soyabean     5.0  \n",
      "10                             Tea Tree Essential Oil     5.0  \n",
      "11                                Skin Fairness Serum     5.0  \n",
      "12                                       Sumac Powder     5.0  \n",
      "13                           Bio Rejuvenating Vetiver     5.0  \n",
      "14  Clean & Pure Intimate Hygiene Wash With Tea Tr...     5.0  \n",
      "15  Citrus Ginger Herbal Loose Leaf Tea Tisane - 5...     5.0  \n",
      "16              Nilgiris Green Tea - Anicca Chamomile     5.0  \n",
      "17          Organics Dia Health Tea - Herbal Infusion     5.0  \n",
      "18          Green Tea - Organic Honey Lemon Long Leaf     5.0  \n",
      "19           Darjeeling Black Tea - Bodh Second Flush     5.0  \n",
      "20              Cloth Clip -  With Rope Set, Assorted     5.0  \n",
      "21  Marvel Avengers Polyester Round Shaped Pencil ...     5.0  \n",
      "22             Dishwash Liquid - Sweet Orange & Lemon     5.0  \n",
      "23  Toilet Tissue Paper - Elegant Perfumed, 3Ply, ...     5.0  \n",
      "24                               Herbal Floor Cleaner     5.0  \n",
      "25                           Fresh Catch Fish Fingers     NaN  \n",
      "26                           Chicken Cocktail Sausage     NaN  \n",
      "27                                Pork Classic Salami     NaN  \n",
      "28                         Pork - Fresh Bacon, Sliced     NaN  \n",
      "29                    Chicken Jalapeno Cheese Nuggets     NaN  \n",
      "30                       Seasoning - Red Onion Powder     5.0  \n",
      "31                      Mitha Sonff - Mouth Freshener     5.0  \n",
      "32                                 Jeera/Cumin Powder     5.0  \n",
      "33                         Organic Food Groundnut Oil     5.0  \n",
      "34                            Soyatein - Minni Warian     5.0  \n",
      "35                      Sweet Corn Kernels - Chipotle     NaN  \n",
      "36                         Sapota - Organically Grown     NaN  \n",
      "37                                      Cabbage - Red     NaN  \n",
      "38                                       Banana - Red     NaN  \n",
      "39                               Chilli - Bajji, Mild     NaN  \n",
      "40                                          Amla Goli     5.0  \n",
      "41                      Organic Powder - Barley Grass     5.0  \n",
      "42                              Dairy Milk - Imported     5.0  \n",
      "43                                 Yellow Curry Paste     5.0  \n",
      "44                           Extra Virgin Coconut Oil     5.0  \n",
      "45  Simply Chef 28 cm Non-Stick Coating Tawa - Gri...     5.0  \n",
      "46              Cat Care - Comfort Bowl, 64Oz GIb1011     5.0  \n",
      "47            Borosilicate Tempered Glass Mixing Bowl     5.0  \n",
      "48          Opalware Ivory 2 Dinner Set - Ivory Blush     5.0  \n",
      "49                              Candy Jar - Cambridge     5.0  \n",
      "50                                   Szechuan Chutney     5.0  \n",
      "51                                    Dark Soya Sauce     5.0  \n",
      "52                    No Rulz Masala Curlz Corn Puffs     5.0  \n",
      "53                                     Garlic Mixture     5.0  \n",
      "54                   Dark Cookies Cream - Family Pack     5.0  \n"
     ]
    }
   ],
   "source": [
    "# Group the DataFrame by category, and sort by rating\n",
    "grouped = df.sort_values(by='rating', ascending=False).groupby('category')\n",
    "\n",
    "# Define a function to return the top 5 products from each group\n",
    "def top_5(group):\n",
    "    return group.head(5)\n",
    "\n",
    "# Apply the function to each group, and concatenate the results\n",
    "result = grouped.apply(top_5).reset_index(drop=True)\n",
    "\n",
    "# Display the resulting DataFrame\n",
    "print(result[['category', 'sub_category', 'product', 'rating']])"
   ]
  },
  {
   "cell_type": "markdown",
   "id": "c00dcf3b",
   "metadata": {},
   "source": [
    "# Keyword-based filtering\n",
    "\n",
    "Let users to enter one or more keywords related to the products they are interested in, and it returns a list of items that match those keywords"
   ]
  },
  {
   "cell_type": "code",
   "execution_count": 9,
   "id": "fd349fe6",
   "metadata": {},
   "outputs": [
    {
     "name": "stderr",
     "output_type": "stream",
     "text": [
      "C:\\ProgramData\\Anaconda3\\lib\\site-packages\\scipy\\__init__.py:146: UserWarning: A NumPy version >=1.16.5 and <1.23.0 is required for this version of SciPy (detected version 1.26.4\n",
      "  warnings.warn(f\"A NumPy version >={np_minversion} and <{np_maxversion}\"\n"
     ]
    }
   ],
   "source": [
    "from sklearn.feature_extraction.text import TfidfVectorizer\n",
    "from sklearn.metrics.pairwise import cosine_similarity"
   ]
  },
  {
   "cell_type": "raw",
   "id": "0d17baac",
   "metadata": {},
   "source": [
    "Created a TfidfVectorizer object to convert the text data into numerical representations using the TF-IDF (Term Frequency-Inverse Document Frequency) approach. The cosine_similarity function from sklearn.metrics.pairwise calculates the cosine similarity between the input text and each product's description in the dataset. Finally, the function recommend_product returns the details of the most similar product."
   ]
  },
  {
   "cell_type": "code",
   "execution_count": 10,
   "id": "14a5d11c",
   "metadata": {},
   "outputs": [
    {
     "name": "stdout",
     "output_type": "stream",
     "text": [
      "Enter your text: Baby\n",
      "Recommended Product:\n",
      "Name: Babycare - Gift Pack\n",
      "Brand: Himalaya Baby\n",
      "Category: Baby Care\n"
     ]
    }
   ],
   "source": [
    "# Create a TF-IDF vectorizer\n",
    "vectorizer = TfidfVectorizer(stop_words='english')\n",
    "\n",
    "# Fit and transform the 'description' column\n",
    "tfidf_matrix = vectorizer.fit_transform(df['description'].values.astype('U'))\n",
    "\n",
    "def recommend_product(input_text):\n",
    "    # Transform the input text using the vectorizer\n",
    "    input_vector = vectorizer.transform([input_text])\n",
    "\n",
    "    # Calculate the cosine similarity between input and dataset\n",
    "    similarities = cosine_similarity(input_vector, tfidf_matrix)\n",
    "\n",
    "    # Get the index of the most similar product\n",
    "    most_similar_index = similarities.argmax()\n",
    "\n",
    "    # Return the details of the most similar product\n",
    "    most_similar_product = df.iloc[most_similar_index]\n",
    "    return most_similar_product\n",
    "\n",
    "# Test the function\n",
    "user_input = input(\"Enter your text: \")\n",
    "recommended_product = recommend_product(user_input)\n",
    "print(\"Recommended Product:\")\n",
    "print(\"Name:\", recommended_product['product'])\n",
    "print(\"Brand:\", recommended_product['brand'])\n",
    "print(\"Category:\", recommended_product['category'])"
   ]
  },
  {
   "cell_type": "code",
   "execution_count": 11,
   "id": "5afb9ac3",
   "metadata": {},
   "outputs": [
    {
     "name": "stdout",
     "output_type": "stream",
     "text": [
      "Enter your text: Stationary\n",
      "Recommended Products:\n",
      "Name: Pencil Cup - Deluxe, No.1704\n",
      "Brand: Omega\n",
      "Category: Cleaning & Household\n",
      "-----------------------------\n",
      "Name: Pen Stand - Hexa, No.1705\n",
      "Brand: Omega\n",
      "Category: Cleaning & Household\n",
      "-----------------------------\n",
      "Name: Pen Holder - Elite, No.1727\n",
      "Brand: Omega\n",
      "Category: Cleaning & Household\n",
      "-----------------------------\n",
      "Name: Stapler 10\n",
      "Brand: Kangaroo\n",
      "Category: Cleaning & Household\n",
      "-----------------------------\n",
      "Name: Modular Multi Utility Plastic Storage Drawer - 3 Tier, Assorted Colour\n",
      "Brand: Nakoda\n",
      "Category: Kitchen, Garden & Pets\n",
      "-----------------------------\n"
     ]
    }
   ],
   "source": [
    "def recommend_products(input_text, num_recommendations=5):\n",
    "    # Transform the input text using the vectorizer\n",
    "    input_vector = vectorizer.transform([input_text])\n",
    "\n",
    "    # Calculate the cosine similarity between input and dataset\n",
    "    similarities = cosine_similarity(input_vector, tfidf_matrix)\n",
    "\n",
    "    # Get the indices of the top N most similar products\n",
    "    #The argsort function is used to get the indices of the top num_recommendations most similar products. \n",
    "    top_indices = similarities.argsort()[0][-num_recommendations:][::-1]\n",
    "\n",
    "    # Return the details of the top N most similar products\n",
    "    top_products = df.iloc[top_indices]\n",
    "    return top_products\n",
    "# Test the function\n",
    "user_input = input(\"Enter your text: \")\n",
    "recommended_products = recommend_products(user_input)\n",
    "print(\"Recommended Products:\")\n",
    "for index, product in recommended_products.iterrows():\n",
    "    print(\"Name:\", product['product'])\n",
    "    print(\"Brand:\", product['brand'])\n",
    "    print(\"Category:\", product['category'])\n",
    "    print(\"-----------------------------\")"
   ]
  },
  {
   "cell_type": "code",
   "execution_count": 12,
   "id": "7f6a14c8",
   "metadata": {},
   "outputs": [
    {
     "name": "stdout",
     "output_type": "stream",
     "text": [
      "Enter your text: Garlic\n",
      "Recommended Products:\n",
      "Name: Powder - Garlic\n",
      "Brand: Organic Nation\n",
      "Category: Foodgrains, Oil & Masala\n",
      "-----------------------------\n",
      "Name: Select - Garlic Powder\n",
      "Brand: Valley Spice\n",
      "Category: Foodgrains, Oil & Masala\n",
      "-----------------------------\n",
      "Name: Organic Garlic Powder - Dehydrated\n",
      "Brand: bb Royal\n",
      "Category: Foodgrains, Oil & Masala\n",
      "-----------------------------\n",
      "Name: Strong Garlic Instant Noodles\n",
      "Brand: A&M\n",
      "Category: Snacks & Branded Foods\n",
      "-----------------------------\n",
      "Name: Pickle - Ginger\n",
      "Brand: Priya\n",
      "Category: Snacks & Branded Foods\n",
      "-----------------------------\n"
     ]
    }
   ],
   "source": [
    "def recommend_products(input_text, num_recommendations=5):\n",
    "    # Transform the input text using the vectorizer\n",
    "    input_vector = vectorizer.transform([input_text])\n",
    "\n",
    "    # Calculate the cosine similarity between input and dataset\n",
    "    similarities = cosine_similarity(input_vector, tfidf_matrix)\n",
    "\n",
    "    # Get the indices of the top N most similar products\n",
    "    #The argsort function is used to get the indices of the top num_recommendations most similar products. \n",
    "    top_indices = similarities.argsort()[0][-num_recommendations:][::-1]\n",
    "\n",
    "    # Return the details of the top N most similar products\n",
    "    top_products = df.iloc[top_indices]\n",
    "    return top_products\n",
    "# Test the function\n",
    "user_input = input(\"Enter your text: \")\n",
    "recommended_products = recommend_products(user_input)\n",
    "print(\"Recommended Products:\")\n",
    "for index, product in recommended_products.iterrows():\n",
    "    print(\"Name:\", product['product'])\n",
    "    print(\"Brand:\", product['brand'])\n",
    "    print(\"Category:\", product['category'])\n",
    "    print(\"-----------------------------\")"
   ]
  },
  {
   "cell_type": "code",
   "execution_count": null,
   "id": "98bfdc17",
   "metadata": {},
   "outputs": [],
   "source": []
  }
 ],
 "metadata": {
  "kernelspec": {
   "display_name": "Python 3 (ipykernel)",
   "language": "python",
   "name": "python3"
  },
  "language_info": {
   "codemirror_mode": {
    "name": "ipython",
    "version": 3
   },
   "file_extension": ".py",
   "mimetype": "text/x-python",
   "name": "python",
   "nbconvert_exporter": "python",
   "pygments_lexer": "ipython3",
   "version": "3.9.7"
  }
 },
 "nbformat": 4,
 "nbformat_minor": 5
}
